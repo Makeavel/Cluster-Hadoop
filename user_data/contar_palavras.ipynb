{
 "cells": [
  {
   "cell_type": "code",
   "execution_count": 1,
   "id": "3df0b23b-2084-41be-9f35-f385749b349d",
   "metadata": {},
   "outputs": [],
   "source": [
    "import findspark\n",
    "from pyspark.sql.session import SparkSession\n",
    "from pyspark import SparkContext, SparkConf\n"
   ]
  },
  {
   "cell_type": "code",
   "execution_count": 2,
   "id": "159ca871-6fad-4155-a2f8-210eced0e71f",
   "metadata": {},
   "outputs": [],
   "source": [
    "# Inicializando Spark\n",
    "findspark.init(\"/usr/spark-3.5.1/\")"
   ]
  },
  {
   "cell_type": "code",
   "execution_count": 3,
   "id": "a2781219-a410-4538-b47e-a3e57b0e8dab",
   "metadata": {},
   "outputs": [
    {
     "name": "stderr",
     "output_type": "stream",
     "text": [
      "Setting default log level to \"WARN\".\n",
      "To adjust logging level use sc.setLogLevel(newLevel). For SparkR, use setLogLevel(newLevel).\n",
      "24/05/24 15:24:32 WARN NativeCodeLoader: Unable to load native-hadoop library for your platform... using builtin-java classes where applicable\n",
      "24/05/24 15:24:38 WARN Client: Neither spark.yarn.jars nor spark.yarn.archive is set, falling back to uploading libraries under SPARK_HOME.\n"
     ]
    }
   ],
   "source": [
    "spark = (\n",
    "    SparkSession.builder.appName(\"sparksubmit_test_app\")\n",
    "    .config(\"spark.sql.warehouse.dir\", \"hdfs:///user/hive/warehouse\")\n",
    "    .config(\"spark.sql.catalogImplementation\", \"hive\")\n",
    "    .getOrCreate()\n",
    ")"
   ]
  },
  {
   "cell_type": "code",
   "execution_count": 4,
   "id": "f537829c-fa23-4d2f-b65b-de92a7556eaf",
   "metadata": {},
   "outputs": [],
   "source": [
    "# criar um contexto de sessão do spark (cria um \"programa\")\n",
    "sc = SparkContext.getOrCreate()\n",
    "\n"
   ]
  },
  {
   "cell_type": "code",
   "execution_count": 5,
   "id": "6557d47d-8e80-4aae-99a9-a6d9742918ac",
   "metadata": {},
   "outputs": [
    {
     "name": "stderr",
     "output_type": "stream",
     "text": [
      "                                                                                \r"
     ]
    },
    {
     "name": "stdout",
     "output_type": "stream",
     "text": [
      "66676\n"
     ]
    },
    {
     "name": "stderr",
     "output_type": "stream",
     "text": [
      "[Stage 5:===============================================>           (4 + 1) / 5]\r"
     ]
    },
    {
     "name": "stdout",
     "output_type": "stream",
     "text": [
      "68240\n"
     ]
    },
    {
     "name": "stderr",
     "output_type": "stream",
     "text": [
      "                                                                                \r"
     ]
    }
   ],
   "source": [
    "def main():\n",
    "\n",
    "    df = spark.read.text(\"hdfs://spark-master:9000/datasets/\")  # noqa: F841\n",
    "\n",
    "    # variável recebe o caminho que aponta para uma arquivo de texto\n",
    "    file_path = \"/datasets/*.txt\"\n",
    "    # leitura do arquivo de texto pelo programa spark\n",
    "    words = sc.textFile(f\"{file_path}\").flatMap(lambda line: line.split(\" \"))\n",
    "    # contagem de palavras utilizando a sintaxe facilitada do pyspark\n",
    "    wordCounts = words.map(lambda word: (word, 1)).reduceByKey(lambda a,b:a +b)\n",
    "    # salvando arquivo com resultado da execução\n",
    "    wordCounts.saveAsTextFile(f\"{'/'.join(file_path.split('/')[:-1])}/word_count\")\n",
    "   \n",
    "    print(wordCounts.count())\n",
    "    print(wordCounts.countApproxDistinct())\n",
    "\n",
    "\n",
    "if __name__ == \"__main__\":\n",
    "    main()"
   ]
  },
  {
   "cell_type": "code",
   "execution_count": 6,
   "id": "0671aa09-fc65-4ca0-a523-587a2dd839b9",
   "metadata": {},
   "outputs": [],
   "source": [
    "spark.stop()"
   ]
  }
 ],
 "metadata": {
  "kernelspec": {
   "display_name": "Python 3 (ipykernel)",
   "language": "python",
   "name": "python3"
  },
  "language_info": {
   "codemirror_mode": {
    "name": "ipython",
    "version": 3
   },
   "file_extension": ".py",
   "mimetype": "text/x-python",
   "name": "python",
   "nbconvert_exporter": "python",
   "pygments_lexer": "ipython3",
   "version": "3.9.2"
  }
 },
 "nbformat": 4,
 "nbformat_minor": 5
}
