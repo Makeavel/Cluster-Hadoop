{
 "cells": [
  {
   "cell_type": "markdown",
   "id": "7d8a92d8-f5ba-4111-b4bc-9a428309330c",
   "metadata": {},
   "source": [
    "# Análise de Dados com PySpark e MySQL\n",
    "\n",
    "Este notebook demonstra como usar PySpark para ler um conjunto de arquivos de texto de mais de 500MB e inserir os dados linha a linha em uma tabela de banco de dados MySQL."
   ]
  },
  {
   "cell_type": "markdown",
   "id": "7b834f38-06c8-48ae-97d0-886b3d6bb705",
   "metadata": {},
   "source": [
    "## Inicialização do Spark\n",
    "\n",
    "Inicializando a sessão Spark e configurando a conexão com o MySQL."
   ]
  },
  {
   "cell_type": "code",
   "execution_count": 1,
   "id": "21799234",
   "metadata": {},
   "outputs": [
    {
     "name": "stdout",
     "output_type": "stream",
     "text": [
      "Collecting mysql-connector-python\n",
      "  Downloading mysql_connector_python-8.4.0-cp39-cp39-manylinux_2_17_x86_64.whl (19.4 MB)\n",
      "\u001b[K     |████████████████████████████████| 19.4 MB 389 kB/s eta 0:00:01    |████▌                           | 2.7 MB 1.4 MB/s eta 0:00:12     |█████████████▉                  | 8.4 MB 1.5 MB/s eta 0:00:08     |█████████████████▉              | 10.9 MB 1.5 MB/s eta 0:00:06     |██████████████████████████████▌ | 18.5 MB 389 kB/s eta 0:00:03\n",
      "\u001b[?25hInstalling collected packages: mysql-connector-python\n",
      "Successfully installed mysql-connector-python-8.4.0\n",
      "Note: you may need to restart the kernel to use updated packages.\n"
     ]
    }
   ],
   "source": [
    "pip install mysql-connector-python"
   ]
  },
  {
   "cell_type": "code",
   "execution_count": 2,
   "id": "395dfa34-935e-4f57-a9ea-12b1ca92e095",
   "metadata": {},
   "outputs": [],
   "source": [
    "import findspark\n",
    "import mysql.connector\n",
    "from pyspark.sql.session import SparkSession\n",
    "from pyspark import SparkContext, SparkConf"
   ]
  },
  {
   "cell_type": "code",
   "execution_count": 3,
   "id": "eac254d3-bca2-40b8-bb03-71696d0c5fe1",
   "metadata": {},
   "outputs": [
    {
     "name": "stderr",
     "output_type": "stream",
     "text": [
      "Setting default log level to \"WARN\".\n",
      "To adjust logging level use sc.setLogLevel(newLevel). For SparkR, use setLogLevel(newLevel).\n",
      "24/06/11 17:38:20 WARN NativeCodeLoader: Unable to load native-hadoop library for your platform... using builtin-java classes where applicable\n",
      "24/06/11 17:38:28 WARN Client: Neither spark.yarn.jars nor spark.yarn.archive is set, falling back to uploading libraries under SPARK_HOME.\n"
     ]
    }
   ],
   "source": [
    "# Inicializando Spark\n",
    "findspark.init(\"/usr/spark-3.5.1/\")\n",
    "\n",
    "spark = (\n",
    "    SparkSession.builder.appName(\"sparksubmit_test_app\")\n",
    "    .config(\"spark.sql.warehouse.dir\", \"hdfs:///user/hive/warehouse\")\n",
    "    .config(\"spark.sql.catalogImplementation\", \"hive\")\n",
    "    .getOrCreate()\n",
    ")"
   ]
  },
  {
   "cell_type": "code",
   "execution_count": 4,
   "id": "45dbff69-0bc4-47c6-b5f0-766e659973e7",
   "metadata": {},
   "outputs": [],
   "source": [
    "# criar um contexto de sessão do spark (cria um \"programa\")\n",
    "sc = SparkContext.getOrCreate()"
   ]
  },
  {
   "cell_type": "markdown",
   "id": "39077463-b81f-47c7-a5f2-cf0eab6e8210",
   "metadata": {},
   "source": [
    "## Conectando/Configurando o MySQL"
   ]
  },
  {
   "cell_type": "code",
   "execution_count": 5,
   "id": "0e39bfdf-6a5a-40aa-9237-60e528f5362e",
   "metadata": {},
   "outputs": [],
   "source": [
    "# Conexão com o MySQL\n",
    "con = mysql.connector.connect(\n",
    "    host=\"10.5.0.5\",\n",
    "    port=3306,\n",
    "    user=\"user_hadoop\",\n",
    "    password=\"123456\",\n",
    "    database=\"db\"\n",
    ")"
   ]
  },
  {
   "cell_type": "code",
   "execution_count": 6,
   "id": "385322e4",
   "metadata": {},
   "outputs": [],
   "source": [
    "# Função para criar a tabela se não existir\n",
    "def create_table_if_not_exists():\n",
    "    cursor = con.cursor()\n",
    "    table_creation_query = \"\"\"\n",
    "    CREATE TABLE IF NOT EXISTS text_data (\n",
    "        id INT AUTO_INCREMENT PRIMARY KEY,\n",
    "        texto TEXT\n",
    "    )\n",
    "    \"\"\"\n",
    "    cursor.execute(table_creation_query)\n",
    "    cursor.close()"
   ]
  },
  {
   "cell_type": "code",
   "execution_count": 7,
   "id": "28babdcd",
   "metadata": {},
   "outputs": [],
   "source": [
    "# Função para inserir os dados no MySQL\n",
    "def insert_into_mysql(text):\n",
    "    cursor = con.cursor()\n",
    "    sql = \"INSERT INTO text_data (texto) values (%s)\"\n",
    "    valores = (text,)\n",
    "    cursor.execute(sql, valores)\n",
    "    cursor.close()\n",
    "    con.commit()"
   ]
  },
  {
   "cell_type": "code",
   "execution_count": 8,
   "id": "e66e869d",
   "metadata": {},
   "outputs": [],
   "source": [
    "# Função para ler os textos do MySQL\n",
    "def read_from_mysql():\n",
    "    cursor = con.cursor()\n",
    "    cursor.execute(\"SELECT texto FROM text_data\")\n",
    "    rows = cursor.fetchall()\n",
    "    cursor.close()\n",
    "    return rows"
   ]
  },
  {
   "cell_type": "code",
   "execution_count": 9,
   "id": "ed441cb9-2769-464a-b23f-cba55826f551",
   "metadata": {},
   "outputs": [],
   "source": [
    "# Criar a tabela se não existir\n",
    "create_table_if_not_exists()"
   ]
  },
  {
   "cell_type": "markdown",
   "id": "5e1ae89b-db7d-4490-aaf6-20b35c471e02",
   "metadata": {},
   "source": [
    "## Leitura e Processamento dos Arquivos de Texto\n",
    "\n",
    "Vamos ler os arquivos de texto maiores que 500MB e processar os dados."
   ]
  },
  {
   "cell_type": "code",
   "execution_count": 12,
   "id": "c775ec77-ff7e-44da-b7d4-4faebc77839e",
   "metadata": {},
   "outputs": [
    {
     "name": "stderr",
     "output_type": "stream",
     "text": [
      "                                                                                \r"
     ]
    },
    {
     "name": "stdout",
     "output_type": "stream",
     "text": [
      "Terminei\n"
     ]
    }
   ],
   "source": [
    "# Caminho para os arquivos de texto\n",
    "file_path = \"hdfs://spark-master:9000/datasets/*.txt\"\n",
    "# Leitura dos arquivos de texto\n",
    "text_files = spark.read.text(file_path)\n",
    "# Inserindo cada linha do arquivo no MySQL\n",
    "for row in text_files.collect():\n",
    "    # Pegando o texto da linha\n",
    "    text = row[0]\n",
    "    # Inserir no MySQL\n",
    "    insert_into_mysql(text)\n",
    "\n",
    "# Leitura dos arquivos de texto\n",
    "print(\"Terminei\")"
   ]
  },
  {
   "cell_type": "markdown",
   "id": "b260c088-e135-4673-a1b0-380f1a280c7a",
   "metadata": {},
   "source": [
    "## Contagem de Palavras"
   ]
  },
  {
   "cell_type": "code",
   "execution_count": 10,
   "id": "1e1c5389-b18d-46da-b47f-ecf9290073aa",
   "metadata": {},
   "outputs": [
    {
     "name": "stderr",
     "output_type": "stream",
     "text": [
      "24/06/11 17:40:29 WARN TaskSetManager: Stage 0 contains a task of very large size (30416 KiB). The maximum recommended task size is 1000 KiB.\n",
      "[Stage 3:=============================>                             (1 + 1) / 2]\r"
     ]
    },
    {
     "name": "stdout",
     "output_type": "stream",
     "text": [
      "Total de palavras: 348459\n"
     ]
    },
    {
     "name": "stderr",
     "output_type": "stream",
     "text": [
      "                                                                                \r"
     ]
    }
   ],
   "source": [
    "# Lendo os textos do MySQL\n",
    "texts = read_from_mysql()\n",
    "\n",
    "# Convertendo os textos em RDD\n",
    "texts_rdd = spark.sparkContext.parallelize([row[0] for row in texts])\n",
    "\n",
    "# Processamento das palavras\n",
    "words = texts_rdd.flatMap(lambda line: line.split(\" \"))\n",
    "word_counts = words.map(lambda word: (word, 1)).reduceByKey(lambda a, b: a + b)\n",
    "\n",
    "# Salvando os resultados no HDFS\n",
    "output_path = \"hdfs://spark-master:9000/datasets/word_count\"\n",
    "word_counts.saveAsTextFile(output_path)\n",
    "\n",
    "# Imprimindo os resultados\n",
    "print(f\"Total de palavras: {word_counts.count()}\")"
   ]
  },
  {
   "cell_type": "markdown",
   "id": "d3dc47db-bd70-48e7-b6b8-ffa867254a0b",
   "metadata": {},
   "source": [
    "## Finalizando a Sessão Spark"
   ]
  },
  {
   "cell_type": "code",
   "execution_count": 11,
   "id": "6700add6-c910-4af2-a407-53f855cc1fed",
   "metadata": {},
   "outputs": [],
   "source": [
    "spark.stop()\n",
    "con.close()"
   ]
  },
  {
   "cell_type": "code",
   "execution_count": null,
   "id": "8c987dd9-0029-4585-a34a-a8c5cfdda1c9",
   "metadata": {},
   "outputs": [],
   "source": [
    "FIM :)"
   ]
  }
 ],
 "metadata": {
  "kernelspec": {
   "display_name": "Python 3 (ipykernel)",
   "language": "python",
   "name": "python3"
  },
  "language_info": {
   "codemirror_mode": {
    "name": "ipython",
    "version": 3
   },
   "file_extension": ".py",
   "mimetype": "text/x-python",
   "name": "python",
   "nbconvert_exporter": "python",
   "pygments_lexer": "ipython3",
   "version": "3.9.2"
  }
 },
 "nbformat": 4,
 "nbformat_minor": 5
}
